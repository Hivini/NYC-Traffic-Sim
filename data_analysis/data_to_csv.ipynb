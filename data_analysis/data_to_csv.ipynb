{
 "cells": [
  {
   "cell_type": "code",
   "execution_count": 13,
   "metadata": {},
   "outputs": [
    {
     "name": "stdout",
     "output_type": "stream",
     "text": [
      "(265,)\n",
      "(61,)\n",
      "(144,)\n",
      "(265, 265)\n"
     ]
    }
   ],
   "source": [
    "import numpy as np\n",
    "\n",
    "data1 = np.load('taxis_ride_origin_counting.npy')\n",
    "print(data1.shape)\n",
    "\n",
    "data2 = np.load('taxis_speed_histogram.npy')\n",
    "print(data2.shape)\n",
    "\n",
    "data3 = np.load('taxis_time_histogram_window_of_10_minutes.npy')\n",
    "print(data3.shape)\n",
    "\n",
    "data4 = np.load('taxis_transition_matrix.npy')\n",
    "print(data4.shape)\n",
    "\n",
    "norm = np.linalg.norm(data1)\n",
    "data1 = data1/norm"
   ]
  },
  {
   "cell_type": "code",
   "execution_count": 20,
   "metadata": {},
   "outputs": [
    {
     "name": "stdout",
     "output_type": "stream",
     "text": [
      "(1, 61)\n",
      "(1, 144)\n",
      "(1, 265)\n"
     ]
    }
   ],
   "source": [
    "newData2 = np.expand_dims(data2, axis=0)\n",
    "print(newData2.shape)\n",
    "\n",
    "newData3 = np.expand_dims(data3, axis=0)\n",
    "print(newData3.shape)\n",
    "\n",
    "newData1 = np.expand_dims(data1, axis=0)\n",
    "print(newData1.shape)"
   ]
  },
  {
   "cell_type": "code",
   "execution_count": 19,
   "metadata": {},
   "outputs": [],
   "source": [
    "np.savetxt(\"taxis_ride_origin_counting.csv\", newData1, delimiter=\",\")\n",
    "np.savetxt(\"taxis_speed_histogram.csv\", newData2, delimiter=\",\")\n",
    "np.savetxt(\"taxis_time_histogram_window_of_10_minutes.csv\", newData3, delimiter=\",\")\n",
    "np.savetxt(\"taxis_transition_matrix.csv\", data4, delimiter=\",\")"
   ]
  }
 ],
 "metadata": {
  "interpreter": {
   "hash": "732f00c41ec6febe1195a3ec4989d3211f40efb04fd77f25a6f0f8bfd6feb066"
  },
  "kernelspec": {
   "display_name": "Python 3.9.5 64-bit ('tf-gpu': conda)",
   "name": "python3"
  },
  "language_info": {
   "codemirror_mode": {
    "name": "ipython",
    "version": 3
   },
   "file_extension": ".py",
   "mimetype": "text/x-python",
   "name": "python",
   "nbconvert_exporter": "python",
   "pygments_lexer": "ipython3",
   "version": "3.9.6"
  },
  "orig_nbformat": 4
 },
 "nbformat": 4,
 "nbformat_minor": 2
}
